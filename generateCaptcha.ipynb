{
 "cells": [
  {
   "cell_type": "code",
   "execution_count": 1,
   "id": "b52ca926",
   "metadata": {},
   "outputs": [],
   "source": [
    "from PIL import ImageFont, ImageDraw, Image\n",
    "import numpy as np\n",
    "import random\n",
    "import string\n",
    "import cv2"
   ]
  },
  {
   "cell_type": "code",
   "execution_count": 20,
   "id": "e64f07d1",
   "metadata": {},
   "outputs": [
    {
     "data": {
      "text/plain": [
       "True"
      ]
     },
     "execution_count": 20,
     "metadata": {},
     "output_type": "execute_result"
    }
   ],
   "source": [
    "# canvas size\n",
    "width = 200\n",
    "height = 50\n",
    "\n",
    "img = np.zeros(shape=(height, width, 3), dtype=np.uint8)\n",
    "img_pil = Image.fromarray(img+255)\n",
    "\n",
    "# text\n",
    "fontPath = r'C:\\Windows\\Fonts\\Arial\\ARIALNB.TTF'\n",
    "font = ImageFont.truetype(font = fontPath, size=48)\n",
    "draw = ImageDraw.Draw(img_pil)\n",
    "\n",
    "# numeric only\n",
    "length = 6\n",
    "text = ''.join(random.choice(string.digits) for _ in range(length))\n",
    "draw.text((35, 0), text, font=font, fill='gray')\n",
    "\n",
    "# line\n",
    "for i in range(60):\n",
    "    draw.line([\n",
    "        (random.choice(range(width)), random.choice(range(height))),\n",
    "        (random.choice(range(width)), random.choice(range(height)))\n",
    "    ], width=1, fill='gray')\n",
    "\n",
    "# noise\n",
    "img = np.array(img_pil)\n",
    "thresh = random.randint(1,3)/100\n",
    "for i in range(img.shape[0]):\n",
    "    for j in range(img.shape[1]):\n",
    "        rdn = random.random()\n",
    "        if rdn < thresh:\n",
    "            img[i][j] = random.randint(0,123)\n",
    "        elif rdn > 1-thresh:\n",
    "            img[i][j] = random.randint(123,255)\n",
    "         \n",
    "# save image\n",
    "cv2.imwrite(\"captchaData\\{}.png\".format(text), img)"
   ]
  },
  {
   "cell_type": "code",
   "execution_count": null,
   "id": "be91ee3f",
   "metadata": {},
   "outputs": [],
   "source": []
  }
 ],
 "metadata": {
  "kernelspec": {
   "display_name": "Python 3",
   "language": "python",
   "name": "python3"
  },
  "language_info": {
   "codemirror_mode": {
    "name": "ipython",
    "version": 3
   },
   "file_extension": ".py",
   "mimetype": "text/x-python",
   "name": "python",
   "nbconvert_exporter": "python",
   "pygments_lexer": "ipython3",
   "version": "3.8.8"
  }
 },
 "nbformat": 4,
 "nbformat_minor": 5
}
